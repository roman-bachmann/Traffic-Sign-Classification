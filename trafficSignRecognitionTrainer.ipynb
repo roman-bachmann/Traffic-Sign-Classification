{
 "cells": [
  {
   "cell_type": "markdown",
   "metadata": {},
   "source": [
    "# Traffic Sign Regognition Trainer\n",
    "\n",
    "This jupyter notebook is used to train the model."
   ]
  },
  {
   "cell_type": "markdown",
   "metadata": {},
   "source": [
    "Handling imports:"
   ]
  },
  {
   "cell_type": "code",
   "execution_count": 1,
   "metadata": {},
   "outputs": [
    {
     "name": "stderr",
     "output_type": "stream",
     "text": [
      "Using TensorFlow backend.\n"
     ]
    }
   ],
   "source": [
    "import numpy as np\n",
    "np.random.seed(1337) # for reproducibility\n",
    "\n",
    "from keras.models import Sequential\n",
    "from keras.layers import Dense, Dropout, Activation, Flatten \n",
    "from keras.layers import MaxPooling2D, Conv2D\n",
    "from keras.layers.advanced_activations import PReLU\n",
    "from keras.utils import np_utils\n",
    "from keras import backend as K\n",
    "from keras.optimizers import SGD\n",
    "from keras.preprocessing.image import ImageDataGenerator\n",
    "from keras.callbacks import ModelCheckpoint, ReduceLROnPlateau\n",
    "\n",
    "import os\n",
    "os.environ[\"KERAS_BACKEND\"] = \"tensorflow\"\n",
    "import glob\n",
    "from skimage import io, transform, color, exposure\n",
    "import matplotlib.pyplot as plt\n",
    "%matplotlib inline\n",
    "\n",
    "import pandas as pd"
   ]
  },
  {
   "cell_type": "markdown",
   "metadata": {},
   "source": [
    "Setting parameters for the network and training:"
   ]
  },
  {
   "cell_type": "code",
   "execution_count": 2,
   "metadata": {
    "collapsed": true
   },
   "outputs": [],
   "source": [
    "batch_size = 32\n",
    "nb_epoch = 50\n",
    "nb_classes = 43\n",
    "\n",
    "# input image dimensions\n",
    "img_rows, img_cols = 32, 32\n",
    "\n",
    "# number of convolutional filters to use \n",
    "conv_depth_1 = 32\n",
    "conv_depth_2 = 64\n",
    "conv_depth_3 = 128\n",
    "hidden_size = 512\n",
    "\n",
    "# size of pooling area for max pooling \n",
    "pool_size = (2, 2)\n",
    "\n",
    "# convolution kernel size\n",
    "kernel_size = (3, 3)\n",
    "\n",
    "# percentage of deletion in dropout layers\n",
    "dropout_conv = 0.25\n",
    "dropout_hidden = 0.5"
   ]
  },
  {
   "cell_type": "markdown",
   "metadata": {},
   "source": [
    "Making the images more uniform by preprocessing them:"
   ]
  },
  {
   "cell_type": "code",
   "execution_count": 3,
   "metadata": {
    "collapsed": true
   },
   "outputs": [],
   "source": [
    "# equalize histogram of each color channel\n",
    "def equalize_hist(img):\n",
    "    for k in range(3):\n",
    "        img[:,:,k] = exposure.equalize_hist(img[:,:,k])\n",
    "    return img\n",
    "\n",
    "# stretch contrast of each color channel\n",
    "def contrast_stretch(img):\n",
    "    p2, p98 = np.percentile(img, (2, 98))\n",
    "    for k in range(3):\n",
    "        img[:,:,k] = exposure.rescale_intensity(img[:,:,k], in_range=(p2, p98))\n",
    "    return img\n",
    "\n",
    "def process_img(img):\n",
    "    img = transform.resize(img, (img_rows, img_cols), mode='constant')\n",
    "    img = contrast_stretch(img)\n",
    "    #img = equalize_hist(img)\n",
    "    return img"
   ]
  },
  {
   "cell_type": "markdown",
   "metadata": {},
   "source": [
    "Load training images and labels:\n",
    "\n",
    "The training images are located under *GTSRB/Final_Training/* , while the labels are extracted out of the file path.\n",
    "These files can be downloaded [online](http://benchmark.ini.rub.de/?section=gtsrb&subsection=dataset)."
   ]
  },
  {
   "cell_type": "code",
   "execution_count": 4,
   "metadata": {
    "collapsed": true,
    "scrolled": false
   },
   "outputs": [],
   "source": [
    "def get_class(img_path):\n",
    "    return int(img_path.split(os.sep)[-2])\n",
    "\n",
    "# Path to training data\n",
    "train_dir = os.path.join('GTSRB', 'Final_Training', 'Images')\n",
    "train_images_paths = glob.glob(\n",
    "    os.path.join(train_dir, '*', '*.ppm'), recursive = True)\n",
    "\n",
    "np.random.shuffle(train_images_paths)\n",
    "train_images = []\n",
    "train_labels = []\n",
    "\n",
    "for filename in train_images_paths:\n",
    "    try:\n",
    "        img = process_img(io.imread(filename))\n",
    "        train_images.append(img)\n",
    "        label = get_class(filename)\n",
    "        train_labels.append(label)\n",
    "    except (IOError, OSError):\n",
    "        print('missed', filename)\n",
    "        pass\n",
    "    \n",
    "X_train = np.array(train_images, dtype='float32')\n",
    "Y_train = np.eye(nb_classes, dtype='uint8')[train_labels] "
   ]
  },
  {
   "cell_type": "code",
   "execution_count": 8,
   "metadata": {
    "scrolled": true
   },
   "outputs": [
    {
     "name": "stdout",
     "output_type": "stream",
     "text": [
      "class:  5\n"
     ]
    },
    {
     "data": {
      "image/png": "[encoded data removed]",
      "text/plain": [
       "<matplotlib.figure.Figure at 0x2a9fcb3e1d0>"
      ]
     },
     "metadata": {},
     "output_type": "display_data"
    }
   ],
   "source": [
    "# To see if images got loaded correctly\n",
    "i = 0\n",
    "plt.imshow(X_train[i])\n",
    "print('class: ', np.where(Y_train[i]==1)[0][0])"
   ]
  },
  {
   "cell_type": "markdown",
   "metadata": {},
   "source": [
    "Load test images and labels.\n",
    "\n",
    "The testing images are located under *GTSRB/Final_Test/* , while the labels are located in GT-final_test.csv.\n",
    "These files can be downloaded online."
   ]
  },
  {
   "cell_type": "code",
   "execution_count": 9,
   "metadata": {
    "collapsed": true
   },
   "outputs": [],
   "source": [
    "# Path to testing data\n",
    "test_dir = os.path.join('GTSRB', 'Final_Test', 'Images')\n",
    "test_images_paths = glob.glob(\n",
    "    os.path.join(test_dir, '*.ppm'), recursive = True)\n",
    "\n",
    "test_images = []\n",
    "test_csv = pd.read_csv('GT-final_test.csv',sep=';')\n",
    "test_labels = list(test_csv['ClassId'])\n",
    "\n",
    "for filename in test_images_paths:\n",
    "    try:\n",
    "        img = process_img(io.imread(filename))\n",
    "        test_images.append(img)\n",
    "    except (IOError, OSError):\n",
    "        print('missed', filename)\n",
    "        pass\n",
    "    \n",
    "X_test = np.array(test_images, dtype='float32')\n",
    "Y_test = np.eye(nb_classes, dtype='uint8')[test_labels] "
   ]
  },
  {
   "cell_type": "code",
   "execution_count": 10,
   "metadata": {},
   "outputs": [
    {
     "name": "stdout",
     "output_type": "stream",
     "text": [
      "class:  16\n"
     ]
    },
    {
     "data": {
      "image/png": "[encoded data removed]",
      "text/plain": [
       "<matplotlib.figure.Figure at 0x2a9fcbb2668>"
      ]
     },
     "metadata": {},
     "output_type": "display_data"
    }
   ],
   "source": [
    "# To see if images got loaded correctly\n",
    "i = 0\n",
    "plt.imshow(X_test[i])\n",
    "print('class: ', np.where(Y_test[i]==1)[0][0])"
   ]
  },
  {
   "cell_type": "markdown",
   "metadata": {},
   "source": [
    "Further processing of input data and validation that it is all loaded up:"
   ]
  },
  {
   "cell_type": "code",
   "execution_count": 11,
   "metadata": {
    "scrolled": true
   },
   "outputs": [
    {
     "name": "stdout",
     "output_type": "stream",
     "text": [
      "X_train shape: (39209, 32, 32, 3)\n",
      "39209 train samples\n",
      "39209 train labels\n",
      "12630 test samples\n",
      "12630 test labels\n"
     ]
    }
   ],
   "source": [
    "# Processing images for theano or tensorflow backend\n",
    "if K.image_dim_ordering() == 'th':\n",
    "    X_train = X_train.reshape(X_train.shape[0], 3, img_rows, img_cols) \n",
    "    X_test = X_test.reshape(X_test.shape[0], 3, img_rows, img_cols) \n",
    "    input_shape = (3, img_rows, img_cols)\n",
    "else:\n",
    "    X_train = X_train.reshape(X_train.shape[0], img_rows, img_cols, 3) \n",
    "    X_test = X_test.reshape(X_test.shape[0], img_rows, img_cols, 3) \n",
    "    input_shape = (img_rows, img_cols, 3)\n",
    "    \n",
    "# Converting the input from bytes to floats\n",
    "X_train = X_train.astype('float32') \n",
    "X_test = X_test.astype('float32') \n",
    "\n",
    "# Normalising the input\n",
    "X_train /= np.max(X_train)\n",
    "X_test /= np.max(X_test)\n",
    "\n",
    "print('X_train shape:', X_train.shape)\n",
    "print(X_train.shape[0], 'train samples')\n",
    "print(len(Y_train), 'train labels')\n",
    "print(X_test.shape[0], 'test samples')\n",
    "print(len(Y_test), 'test labels')"
   ]
  },
  {
   "cell_type": "markdown",
   "metadata": {},
   "source": [
    "Data generation. Slightly rotates, shifts, shears and zoom images to get some more variation:"
   ]
  },
  {
   "cell_type": "code",
   "execution_count": 12,
   "metadata": {
    "collapsed": true
   },
   "outputs": [],
   "source": [
    "datagen = ImageDataGenerator(\n",
    "              featurewise_center=False,\n",
    "              featurewise_std_normalization=False,\n",
    "              rotation_range=10,\n",
    "              width_shift_range=0.1,\n",
    "              height_shift_range=0.1,\n",
    "              shear_range=0.3,\n",
    "              zoom_range=0.2,\n",
    "              horizontal_flip=False) \n",
    "\n",
    "datagen.fit(X_train)"
   ]
  },
  {
   "cell_type": "markdown",
   "metadata": {},
   "source": [
    "Defining the whole network in keras:"
   ]
  },
  {
   "cell_type": "code",
   "execution_count": 13,
   "metadata": {
    "collapsed": true
   },
   "outputs": [],
   "source": [
    "model = Sequential()\n",
    "\n",
    "# First convolutional layer\n",
    "model.add(Conv2D(conv_depth_1, (kernel_size[0], kernel_size[1]),\n",
    "                 padding='same', input_shape=input_shape))\n",
    "model.add(PReLU())\n",
    "model.add(Conv2D(conv_depth_1, (kernel_size[0], kernel_size[1])))\n",
    "model.add(PReLU())\n",
    "model.add(MaxPooling2D(pool_size=pool_size))\n",
    "model.add(Dropout(dropout_conv))\n",
    "\n",
    "# Second convolutional layer\n",
    "model.add(Conv2D(conv_depth_2, (kernel_size[0], kernel_size[1]), \n",
    "                 padding='same', kernel_initializer='glorot_uniform'))\n",
    "model.add(PReLU())\n",
    "model.add(Conv2D(conv_depth_2, (kernel_size[0], kernel_size[1]), \n",
    "                 kernel_initializer='glorot_uniform'))\n",
    "model.add(PReLU())\n",
    "model.add(MaxPooling2D(pool_size=pool_size))\n",
    "model.add(Dropout(dropout_conv))\n",
    "\n",
    "# Third convolutional layer\n",
    "model.add(Conv2D(conv_depth_3, (kernel_size[0], kernel_size[1]), \n",
    "                 padding='same', kernel_initializer='glorot_uniform'))\n",
    "model.add(PReLU())\n",
    "model.add(Conv2D(conv_depth_3, (kernel_size[0], kernel_size[1]), \n",
    "                 kernel_initializer='glorot_uniform'))\n",
    "model.add(PReLU())\n",
    "model.add(MaxPooling2D(pool_size=pool_size))\n",
    "model.add(Dropout(dropout_conv))\n",
    "\n",
    "# Dense layer\n",
    "model.add(Flatten())\n",
    "model.add(Dense(hidden_size, kernel_initializer='glorot_uniform'))\n",
    "model.add(PReLU())\n",
    "model.add(Dropout(dropout_hidden))\n",
    "model.add(Dense(nb_classes))\n",
    "model.add(Activation('softmax'))"
   ]
  },
  {
   "cell_type": "markdown",
   "metadata": {},
   "source": [
    "Compile the model:"
   ]
  },
  {
   "cell_type": "code",
   "execution_count": 14,
   "metadata": {
    "collapsed": true
   },
   "outputs": [],
   "source": [
    "model.compile(loss='categorical_crossentropy', \n",
    "              optimizer=SGD(lr=0.01, momentum=0.9, nesterov=True),\n",
    "              metrics=['accuracy'])"
   ]
  },
  {
   "cell_type": "markdown",
   "metadata": {},
   "source": [
    "Let the network learn:"
   ]
  },
  {
   "cell_type": "code",
   "execution_count": 15,
   "metadata": {
    "scrolled": true
   },
   "outputs": [
    {
     "name": "stdout",
     "output_type": "stream",
     "text": [
      "Epoch 1/50\n",
      "1226/1225 [==============================] - 25s - loss: 2.3936 - acc: 0.2975 - val_loss: 0.9851 - val_acc: 0.6753\n",
      "Epoch 2/50\n",
      "1226/1225 [==============================] - 23s - loss: 0.8295 - acc: 0.7315 - val_loss: 0.2171 - val_acc: 0.9332\n",
      "Epoch 3/50\n",
      "1226/1225 [==============================] - 23s - loss: 0.4071 - acc: 0.8721 - val_loss: 0.0980 - val_acc: 0.9701\n",
      "Epoch 4/50\n",
      "1226/1225 [==============================] - 23s - loss: 0.2642 - acc: 0.9193 - val_loss: 0.1024 - val_acc: 0.9659\n",
      "Epoch 5/50\n",
      "1226/1225 [==============================] - 23s - loss: 0.2109 - acc: 0.9369 - val_loss: 0.0815 - val_acc: 0.9764\n",
      "Epoch 6/50\n",
      "1226/1225 [==============================] - 22s - loss: 0.1770 - acc: 0.9457 - val_loss: 0.0990 - val_acc: 0.9721\n",
      "Epoch 7/50\n",
      "1226/1225 [==============================] - 21s - loss: 0.1468 - acc: 0.9570 - val_loss: 0.0753 - val_acc: 0.9758\n",
      "Epoch 8/50\n",
      "1226/1225 [==============================] - 21s - loss: 0.1427 - acc: 0.9569 - val_loss: 0.0443 - val_acc: 0.9861\n",
      "Epoch 9/50\n",
      "1226/1225 [==============================] - 22s - loss: 0.1322 - acc: 0.9608 - val_loss: 0.0633 - val_acc: 0.9828\n",
      "Epoch 10/50\n",
      "1226/1225 [==============================] - 23s - loss: 0.1330 - acc: 0.9606 - val_loss: 0.0724 - val_acc: 0.9797\n",
      "Epoch 11/50\n",
      "1226/1225 [==============================] - 23s - loss: 0.1181 - acc: 0.9652 - val_loss: 0.1088 - val_acc: 0.9770\n",
      "Epoch 12/50\n",
      "1226/1225 [==============================] - 23s - loss: 0.1104 - acc: 0.9680 - val_loss: 0.0515 - val_acc: 0.9860\n",
      "Epoch 13/50\n",
      "1226/1225 [==============================] - 23s - loss: 0.1201 - acc: 0.9663 - val_loss: 0.0798 - val_acc: 0.9808\n",
      "Epoch 14/50\n",
      "1226/1225 [==============================] - 22s - loss: 0.1180 - acc: 0.9665 - val_loss: 0.0628 - val_acc: 0.9838\n",
      "Epoch 15/50\n",
      "1226/1225 [==============================] - 22s - loss: 0.0603 - acc: 0.9819 - val_loss: 0.0510 - val_acc: 0.9869\n",
      "Epoch 16/50\n",
      "1226/1225 [==============================] - 22s - loss: 0.0457 - acc: 0.9865 - val_loss: 0.0475 - val_acc: 0.9870\n",
      "Epoch 17/50\n",
      "1226/1225 [==============================] - 22s - loss: 0.0406 - acc: 0.9886 - val_loss: 0.0533 - val_acc: 0.9869\n",
      "Epoch 18/50\n",
      "1226/1225 [==============================] - 22s - loss: 0.0377 - acc: 0.9886 - val_loss: 0.0449 - val_acc: 0.9889\n",
      "Epoch 19/50\n",
      "1226/1225 [==============================] - 23s - loss: 0.0372 - acc: 0.9886 - val_loss: 0.0470 - val_acc: 0.9888\n",
      "Epoch 20/50\n",
      "1226/1225 [==============================] - 22s - loss: 0.0341 - acc: 0.9899 - val_loss: 0.0515 - val_acc: 0.9875\n",
      "Epoch 21/50\n",
      "1226/1225 [==============================] - 23s - loss: 0.0354 - acc: 0.9898 - val_loss: 0.0408 - val_acc: 0.9892\n",
      "Epoch 22/50\n",
      "1226/1225 [==============================] - 23s - loss: 0.0303 - acc: 0.9911 - val_loss: 0.0469 - val_acc: 0.9878\n",
      "Epoch 23/50\n",
      "1226/1225 [==============================] - 23s - loss: 0.0326 - acc: 0.9906 - val_loss: 0.0524 - val_acc: 0.9867\n",
      "Epoch 24/50\n",
      "1226/1225 [==============================] - 22s - loss: 0.0302 - acc: 0.9908 - val_loss: 0.0479 - val_acc: 0.9884\n",
      "Epoch 25/50\n",
      "1226/1225 [==============================] - 22s - loss: 0.0288 - acc: 0.9910 - val_loss: 0.0470 - val_acc: 0.9892\n",
      "Epoch 26/50\n",
      "1226/1225 [==============================] - 22s - loss: 0.0278 - acc: 0.9917 - val_loss: 0.0504 - val_acc: 0.9888\n",
      "Epoch 27/50\n",
      "1226/1225 [==============================] - 23s - loss: 0.0290 - acc: 0.9905 - val_loss: 0.0502 - val_acc: 0.9890\n",
      "Epoch 28/50\n",
      "1226/1225 [==============================] - 23s - loss: 0.0275 - acc: 0.9919 - val_loss: 0.0415 - val_acc: 0.9895\n",
      "Epoch 29/50\n",
      "1226/1225 [==============================] - 23s - loss: 0.0252 - acc: 0.9926 - val_loss: 0.0515 - val_acc: 0.9891\n",
      "Epoch 30/50\n",
      "1226/1225 [==============================] - 22s - loss: 0.0259 - acc: 0.9923 - val_loss: 0.0453 - val_acc: 0.9892\n",
      "Epoch 31/50\n",
      "1226/1225 [==============================] - 23s - loss: 0.0255 - acc: 0.9920 - val_loss: 0.0451 - val_acc: 0.9899\n",
      "Epoch 32/50\n",
      "1226/1225 [==============================] - 23s - loss: 0.0259 - acc: 0.9921 - val_loss: 0.0479 - val_acc: 0.9886\n",
      "Epoch 33/50\n",
      "1226/1225 [==============================] - 23s - loss: 0.0246 - acc: 0.9930 - val_loss: 0.0447 - val_acc: 0.9892\n",
      "Epoch 34/50\n",
      "1226/1225 [==============================] - 23s - loss: 0.0221 - acc: 0.9932 - val_loss: 0.0436 - val_acc: 0.9901\n",
      "Epoch 35/50\n",
      "1226/1225 [==============================] - 22s - loss: 0.0241 - acc: 0.9928 - val_loss: 0.0449 - val_acc: 0.9893\n",
      "Epoch 36/50\n",
      "1226/1225 [==============================] - 23s - loss: 0.0247 - acc: 0.9927 - val_loss: 0.0402 - val_acc: 0.9900\n",
      "Epoch 37/50\n",
      "1226/1225 [==============================] - 22s - loss: 0.0260 - acc: 0.9924 - val_loss: 0.0435 - val_acc: 0.9897\n",
      "Epoch 38/50\n",
      "1226/1225 [==============================] - 23s - loss: 0.0227 - acc: 0.9933 - val_loss: 0.0388 - val_acc: 0.9916\n",
      "Epoch 39/50\n",
      "1226/1225 [==============================] - 22s - loss: 0.0260 - acc: 0.9923 - val_loss: 0.0433 - val_acc: 0.9897\n",
      "Epoch 40/50\n",
      "1226/1225 [==============================] - 22s - loss: 0.0234 - acc: 0.9930 - val_loss: 0.0459 - val_acc: 0.9901\n",
      "Epoch 41/50\n",
      "1226/1225 [==============================] - 23s - loss: 0.0212 - acc: 0.9937 - val_loss: 0.0421 - val_acc: 0.9904\n",
      "Epoch 42/50\n",
      "1226/1225 [==============================] - 23s - loss: 0.0223 - acc: 0.9939 - val_loss: 0.0459 - val_acc: 0.9896\n",
      "Epoch 43/50\n",
      "1226/1225 [==============================] - 23s - loss: 0.0233 - acc: 0.9933 - val_loss: 0.0429 - val_acc: 0.9904\n",
      "Epoch 44/50\n",
      "1226/1225 [==============================] - 23s - loss: 0.0212 - acc: 0.9936 - val_loss: 0.0415 - val_acc: 0.9905\n",
      "Epoch 45/50\n",
      "1226/1225 [==============================] - 22s - loss: 0.0199 - acc: 0.9938 - val_loss: 0.0440 - val_acc: 0.9905\n",
      "Epoch 46/50\n",
      "1226/1225 [==============================] - 22s - loss: 0.0225 - acc: 0.9930 - val_loss: 0.0422 - val_acc: 0.9898\n",
      "Epoch 47/50\n",
      "1226/1225 [==============================] - 23s - loss: 0.0228 - acc: 0.9932 - val_loss: 0.0434 - val_acc: 0.9893\n",
      "Epoch 48/50\n",
      "1226/1225 [==============================] - 22s - loss: 0.0211 - acc: 0.9938 - val_loss: 0.0444 - val_acc: 0.9902\n",
      "Epoch 49/50\n",
      "1226/1225 [==============================] - 23s - loss: 0.0222 - acc: 0.9935 - val_loss: 0.0446 - val_acc: 0.9892\n",
      "Epoch 50/50\n",
      "1226/1225 [==============================] - 22s - loss: 0.0209 - acc: 0.9938 - val_loss: 0.0464 - val_acc: 0.9896\n"
     ]
    }
   ],
   "source": [
    "reduce_lr = ReduceLROnPlateau(monitor='val_loss', factor=0.2,\n",
    "                              patience=5, min_lr=0.001)\n",
    "\n",
    "history = model.fit_generator(datagen.flow(X_train, Y_train, batch_size=batch_size),\n",
    "                              steps_per_epoch=len(X_train)/batch_size,\n",
    "                              epochs=nb_epoch,\n",
    "                              validation_data=(X_test, Y_test),\n",
    "                              callbacks=[reduce_lr, ModelCheckpoint('model.h5',save_best_only=True)])"
   ]
  },
  {
   "cell_type": "markdown",
   "metadata": {},
   "source": [
    "## Evaluation of the model:"
   ]
  },
  {
   "cell_type": "code",
   "execution_count": 16,
   "metadata": {},
   "outputs": [
    {
     "name": "stdout",
     "output_type": "stream",
     "text": [
      "Test score: 0.0464025507654\n",
      "Test accuracy: 0.989627870226\n"
     ]
    }
   ],
   "source": [
    "score = model.evaluate(X_test, Y_test, verbose=0) \n",
    "print('Test score:', score[0])\n",
    "print('Test accuracy:', score[1])"
   ]
  },
  {
   "cell_type": "code",
   "execution_count": 17,
   "metadata": {},
   "outputs": [
    {
     "name": "stdout",
     "output_type": "stream",
     "text": [
      "dict_keys(['val_loss', 'lr', 'acc', 'loss', 'val_acc'])\n"
     ]
    },
    {
     "data": {
      "image/png": "[encoded data removed]",
      "text/plain": [
       "<matplotlib.figure.Figure at 0x2a99b151320>"
      ]
     },
     "metadata": {},
     "output_type": "display_data"
    },
    {
     "data": {
      "image/png": "[encoded data removed]",
      "text/plain": [
       "<matplotlib.figure.Figure at 0x2a9fcbab160>"
      ]
     },
     "metadata": {},
     "output_type": "display_data"
    }
   ],
   "source": [
    "print(history.history.keys())\n",
    "\n",
    "# summarize history for accuracy\n",
    "plt.plot(history.history['acc'])\n",
    "plt.plot(history.history['val_acc'])\n",
    "plt.title('model accuracy')\n",
    "plt.ylabel('accuracy')\n",
    "plt.xlabel('epoch')\n",
    "plt.legend(['train', 'test'], loc='upper left')\n",
    "plt.show()\n",
    "\n",
    "# summarize history for loss\n",
    "plt.plot(history.history['loss'])\n",
    "plt.plot(history.history['val_loss'])\n",
    "plt.title('model loss')\n",
    "plt.ylabel('loss')\n",
    "plt.xlabel('epoch')\n",
    "plt.legend(['train', 'test'], loc='upper left')\n",
    "plt.show()"
   ]
  },
  {
   "cell_type": "code",
   "execution_count": 18,
   "metadata": {},
   "outputs": [
    {
     "data": {
      "text/plain": [
       "0.99160728674036869"
      ]
     },
     "execution_count": 18,
     "metadata": {},
     "output_type": "execute_result"
    }
   ],
   "source": [
    "max(history.history['val_acc'])"
   ]
  },
  {
   "cell_type": "code",
   "execution_count": 19,
   "metadata": {},
   "outputs": [
    {
     "data": {
      "text/plain": [
       "0.038810424050781334"
      ]
     },
     "execution_count": 19,
     "metadata": {},
     "output_type": "execute_result"
    }
   ],
   "source": [
    "min(history.history['val_loss'])"
   ]
  },
  {
   "cell_type": "code",
   "execution_count": 20,
   "metadata": {},
   "outputs": [
    {
     "name": "stdout",
     "output_type": "stream",
     "text": [
      "_________________________________________________________________\n",
      "Layer (type)                 Output Shape              Param #   \n",
      "=================================================================\n",
      "conv2d_1 (Conv2D)            (None, 32, 32, 32)        896       \n",
      "_________________________________________________________________\n",
      "p_re_lu_1 (PReLU)            (None, 32, 32, 32)        32768     \n",
      "_________________________________________________________________\n",
      "conv2d_2 (Conv2D)            (None, 30, 30, 32)        9248      \n",
      "_________________________________________________________________\n",
      "p_re_lu_2 (PReLU)            (None, 30, 30, 32)        28800     \n",
      "_________________________________________________________________\n",
      "max_pooling2d_1 (MaxPooling2 (None, 15, 15, 32)        0         \n",
      "_________________________________________________________________\n",
      "dropout_1 (Dropout)          (None, 15, 15, 32)        0         \n",
      "_________________________________________________________________\n",
      "conv2d_3 (Conv2D)            (None, 15, 15, 64)        18496     \n",
      "_________________________________________________________________\n",
      "p_re_lu_3 (PReLU)            (None, 15, 15, 64)        14400     \n",
      "_________________________________________________________________\n",
      "conv2d_4 (Conv2D)            (None, 13, 13, 64)        36928     \n",
      "_________________________________________________________________\n",
      "p_re_lu_4 (PReLU)            (None, 13, 13, 64)        10816     \n",
      "_________________________________________________________________\n",
      "max_pooling2d_2 (MaxPooling2 (None, 6, 6, 64)          0         \n",
      "_________________________________________________________________\n",
      "dropout_2 (Dropout)          (None, 6, 6, 64)          0         \n",
      "_________________________________________________________________\n",
      "conv2d_5 (Conv2D)            (None, 6, 6, 128)         73856     \n",
      "_________________________________________________________________\n",
      "p_re_lu_5 (PReLU)            (None, 6, 6, 128)         4608      \n",
      "_________________________________________________________________\n",
      "conv2d_6 (Conv2D)            (None, 4, 4, 128)         147584    \n",
      "_________________________________________________________________\n",
      "p_re_lu_6 (PReLU)            (None, 4, 4, 128)         2048      \n",
      "_________________________________________________________________\n",
      "max_pooling2d_3 (MaxPooling2 (None, 2, 2, 128)         0         \n",
      "_________________________________________________________________\n",
      "dropout_3 (Dropout)          (None, 2, 2, 128)         0         \n",
      "_________________________________________________________________\n",
      "flatten_1 (Flatten)          (None, 512)               0         \n",
      "_________________________________________________________________\n",
      "dense_1 (Dense)              (None, 512)               262656    \n",
      "_________________________________________________________________\n",
      "p_re_lu_7 (PReLU)            (None, 512)               512       \n",
      "_________________________________________________________________\n",
      "dropout_4 (Dropout)          (None, 512)               0         \n",
      "_________________________________________________________________\n",
      "dense_2 (Dense)              (None, 43)                22059     \n",
      "_________________________________________________________________\n",
      "activation_1 (Activation)    (None, 43)                0         \n",
      "=================================================================\n",
      "Total params: 665,675\n",
      "Trainable params: 665,675\n",
      "Non-trainable params: 0\n",
      "_________________________________________________________________\n"
     ]
    }
   ],
   "source": [
    "model.summary()"
   ]
  },
  {
   "cell_type": "code",
   "execution_count": null,
   "metadata": {
    "collapsed": true
   },
   "outputs": [],
   "source": []
  }
 ],
 "metadata": {
  "kernelspec": {
   "display_name": "Python 3",
   "language": "python",
   "name": "python3"
  },
  "language_info": {
   "codemirror_mode": {
    "name": "ipython",
    "version": 3
   },
   "file_extension": ".py",
   "mimetype": "text/x-python",
   "name": "python",
   "nbconvert_exporter": "python",
   "pygments_lexer": "ipython3",
   "version": "3.6.1"
  }
 },
 "nbformat": 4,
 "nbformat_minor": 2
}
