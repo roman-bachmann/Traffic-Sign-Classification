{
 "cells": [
  {
   "cell_type": "markdown",
   "metadata": {},
   "source": [
    "# Traffic Sign Classifier\n",
    "\n",
    "This jupyter notebook loads an image and classifies the traffic sign on it."
   ]
  },
  {
   "cell_type": "markdown",
   "metadata": {},
   "source": [
    "Handling imports:"
   ]
  },
  {
   "cell_type": "code",
   "execution_count": 1,
   "metadata": {},
   "outputs": [
    {
     "name": "stderr",
     "output_type": "stream",
     "text": [
      "Using TensorFlow backend.\n"
     ]
    }
   ],
   "source": [
    "import numpy as np\n",
    "np.random.seed(1337) # for reproducibility\n",
    "\n",
    "from keras.models import load_model\n",
    "from keras.preprocessing import image\n",
    "\n",
    "from skimage import io, transform, color, exposure\n",
    "import matplotlib.pyplot as plt\n",
    "%matplotlib inline"
   ]
  },
  {
   "cell_type": "code",
   "execution_count": 2,
   "metadata": {
    "collapsed": true
   },
   "outputs": [],
   "source": [
    "# input image resized dimensions\n",
    "img_rows, img_cols = 32, 32"
   ]
  },
  {
   "cell_type": "markdown",
   "metadata": {},
   "source": [
    "Making the images more uniform by preprocessing them:"
   ]
  },
  {
   "cell_type": "code",
   "execution_count": 3,
   "metadata": {
    "collapsed": true
   },
   "outputs": [],
   "source": [
    "# equalize histogram of each color channel\n",
    "def equalize_hist(img):\n",
    "    for k in range(3):\n",
    "        img[:,:,k] = exposure.equalize_hist(img[:,:,k])\n",
    "    return img\n",
    "\n",
    "# stretch contrast of each color channel\n",
    "def contrast_stretch(img):\n",
    "    p2, p98 = np.percentile(img, (2, 98))\n",
    "    for k in range(3):\n",
    "        img[:,:,k] = exposure.rescale_intensity(img[:,:,k], in_range=(p2, p98))\n",
    "    return img\n",
    "\n",
    "def process_img(img):\n",
    "    img = transform.resize(img, (img_rows, img_cols), mode='constant')\n",
    "    img = contrast_stretch(img)\n",
    "    #img = equalize_hist(img)\n",
    "    return img"
   ]
  },
  {
   "cell_type": "markdown",
   "metadata": {},
   "source": [
    "Loads the trained model from the disk:"
   ]
  },
  {
   "cell_type": "code",
   "execution_count": 4,
   "metadata": {
    "collapsed": true
   },
   "outputs": [
    {
     "name": "stderr",
     "output_type": "stream",
     "text": [
      "/usr/local/anaconda3/envs/ml/lib/python3.5/site-packages/keras/models.py:288: UserWarning: Error in loading the saved optimizer state. As a result, your model is starting with a freshly initialized optimizer.\n",
      "  warnings.warn('Error in loading the saved optimizer '\n"
     ]
    }
   ],
   "source": [
    "model = load_model('final_model.h5')"
   ]
  },
  {
   "cell_type": "markdown",
   "metadata": {},
   "source": [
    "Loads the cropped image, processes and classifies it. Please specify the path for your image below:"
   ]
  },
  {
   "cell_type": "code",
   "execution_count": 7,
   "metadata": {},
   "outputs": [
    {
     "name": "stdout",
     "output_type": "stream",
     "text": [
      "Best classification:\n",
      "Class: 16 , Probability: 1.0\n"
     ]
    },
    {
     "data": {
      "image/png": "[encoded data removed]",
      "text/plain": [
       "<matplotlib.figure.Figure at 0x120f1b208>"
      ]
     },
     "metadata": {},
     "output_type": "display_data"
    }
   ],
   "source": [
    "# PATH TO IMAGE\n",
    "img = io.imread('GTSRB/Final_Test/Images/00000.ppm')\n",
    "\n",
    "img = process_img(img)\n",
    "plt.imshow(img)\n",
    "\n",
    "img = image.img_to_array(img)\n",
    "img = np.expand_dims(img, axis=0)\n",
    "\n",
    "preds = model.predict(img)\n",
    "\n",
    "prob = max(preds[0])\n",
    "index = np.where(preds[0] == prob)[0][0]\n",
    "\n",
    "print('Best classification:')\n",
    "print('Class:', index, ', Probability:', prob)"
   ]
  },
  {
   "cell_type": "code",
   "execution_count": null,
   "metadata": {
    "collapsed": true
   },
   "outputs": [],
   "source": []
  }
 ],
 "metadata": {
  "kernelspec": {
   "display_name": "ml",
   "language": "python",
   "name": "ml"
  },
  "language_info": {
   "codemirror_mode": {
    "name": "ipython",
    "version": 3
   },
   "file_extension": ".py",
   "mimetype": "text/x-python",
   "name": "python",
   "nbconvert_exporter": "python",
   "pygments_lexer": "ipython3",
   "version": "3.5.4"
  }
 },
 "nbformat": 4,
 "nbformat_minor": 2
}
